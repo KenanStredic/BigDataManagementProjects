{
 "cells": [
  {
   "cell_type": "markdown",
   "metadata": {
    "application/vnd.databricks.v1+cell": {
     "cellMetadata": {
      "byteLimit": 2048000,
      "rowLimit": 10000
     },
     "inputWidgets": {},
     "nuid": "0414d4eb-d22e-4cff-8cb2-fb77d45f273d",
     "showTitle": false,
     "title": ""
    }
   },
   "source": [
    "Question 1A"
   ]
  },
  {
   "cell_type": "code",
   "execution_count": 0,
   "metadata": {
    "application/vnd.databricks.v1+cell": {
     "cellMetadata": {
      "byteLimit": 2048000,
      "rowLimit": 10000
     },
     "inputWidgets": {},
     "nuid": "b1df328f-d289-40e3-a7b4-5802b70ecfcd",
     "showTitle": false,
     "title": ""
    }
   },
   "outputs": [
    {
     "output_type": "stream",
     "name": "stdout",
     "output_type": "stream",
     "text": [
      "Out[29]: Row(Region='Africa', Country='Algeria', State=None, City='algiers', Month=1, Day=1, Year=1995, AvgTemperature=64.2)"
     ]
    }
   ],
   "source": [
    "from pyspark.sql.functions import lower, col, avg, udf\n",
    "from pyspark.sql.types import StringType, BooleanType, DoubleType, IntegerType\n",
    "\n",
    "df = spark.read.format(\"csv\").option(\"header\", \"true\").load('/FileStore/shared_uploads/kstredic02@hotmail.com/city_temperature.csv')\n",
    "df = df.withColumn(\"AvgTemperature\", df['AvgTemperature'].cast(DoubleType()))\n",
    "df = df.withColumn(\"Month\", df['Month'].cast(IntegerType()))\n",
    "df = df.withColumn(\"Day\", df['Day'].cast(IntegerType()))\n",
    "df = df.withColumn(\"Year\", df['Year'].cast(IntegerType()))\n",
    "df = df.withColumn(\"City\", lower(df['City']))\n",
    "df = df.filter(df.AvgTemperature != -99)\n",
    "country_list = spark.read.format(\"csv\").option(\"header\", \"true\").load('/FileStore/shared_uploads/kstredic02@hotmail.com/country_list.csv')\n",
    "country_list = country_list.withColumn(\"capital\", lower(country_list[\"capital\"]))\n",
    "df.head()"
   ]
  },
  {
   "cell_type": "code",
   "execution_count": 0,
   "metadata": {
    "application/vnd.databricks.v1+cell": {
     "cellMetadata": {
      "byteLimit": 2048000,
      "rowLimit": 10000
     },
     "inputWidgets": {},
     "nuid": "f53d478d-262a-4992-9645-eff53935f6dc",
     "showTitle": false,
     "title": ""
    }
   },
   "outputs": [
    {
     "output_type": "display_data",
     "data": {
      "text/html": [
       "<style scoped>\n",
       "  .table-result-container {\n",
       "    max-height: 300px;\n",
       "    overflow: auto;\n",
       "  }\n",
       "  table, th, td {\n",
       "    border: 1px solid black;\n",
       "    border-collapse: collapse;\n",
       "  }\n",
       "  th, td {\n",
       "    padding: 5px;\n",
       "  }\n",
       "  th {\n",
       "    text-align: left;\n",
       "  }\n",
       "</style><div class='table-result-container'><table class='table-result'><thead style='background-color: white'><tr><th>Region</th><th>AvgTemp</th></tr></thead><tbody><tr><td>Africa</td><td>74.40260231125495</td></tr><tr><td>Asia</td><td>68.1097225987458</td></tr><tr><td>Europe</td><td>51.94717142841552</td></tr><tr><td>Australia/South Pacific</td><td>62.30369323842191</td></tr><tr><td>North America</td><td>56.15019771858279</td></tr><tr><td>Middle East</td><td>73.84068255374054</td></tr><tr><td>South/Central America & Carribean</td><td>72.20202379397276</td></tr></tbody></table></div>"
      ]
     },
     "metadata": {
      "application/vnd.databricks.v1+output": {
       "addedWidgets": {},
       "aggData": [],
       "aggError": "",
       "aggOverflow": false,
       "aggSchema": [],
       "aggSeriesLimitReached": false,
       "aggType": "",
       "arguments": {},
       "columnCustomDisplayInfos": {},
       "data": [
        [
         "Africa",
         74.40260231125495
        ],
        [
         "Asia",
         68.1097225987458
        ],
        [
         "Europe",
         51.94717142841552
        ],
        [
         "Australia/South Pacific",
         62.30369323842191
        ],
        [
         "North America",
         56.15019771858279
        ],
        [
         "Middle East",
         73.84068255374054
        ],
        [
         "South/Central America & Carribean",
         72.20202379397276
        ]
       ],
       "datasetInfos": [],
       "dbfsResultPath": null,
       "isJsonSchema": true,
       "metadata": {},
       "overflow": false,
       "plotOptions": {
        "customPlotOptions": {},
        "displayType": "table",
        "pivotAggregation": null,
        "pivotColumns": null,
        "xColumns": null,
        "yColumns": null
       },
       "removedWidgets": [],
       "schema": [
        {
         "metadata": "{}",
         "name": "Region",
         "type": "\"string\""
        },
        {
         "metadata": "{}",
         "name": "AvgTemp",
         "type": "\"double\""
        }
       ],
       "type": "table"
      }
     },
     "output_type": "display_data"
    }
   ],
   "source": [
    "a = df.groupBy('Region').agg(avg('AvgTemperature').alias(\"AvgTemp\"))\n",
    "display(a)"
   ]
  },
  {
   "cell_type": "markdown",
   "metadata": {
    "application/vnd.databricks.v1+cell": {
     "cellMetadata": {
      "byteLimit": 2048000,
      "rowLimit": 10000
     },
     "inputWidgets": {},
     "nuid": "fb24e8cb-72a3-4d10-a748-c085775c5438",
     "showTitle": false,
     "title": ""
    }
   },
   "source": [
    "Question 1B"
   ]
  },
  {
   "cell_type": "code",
   "execution_count": 0,
   "metadata": {
    "application/vnd.databricks.v1+cell": {
     "cellMetadata": {
      "byteLimit": 2048000,
      "rowLimit": 10000
     },
     "inputWidgets": {},
     "nuid": "1c3778d9-876e-4a6c-a331-bfc1d43dfb85",
     "showTitle": false,
     "title": ""
    }
   },
   "outputs": [
    {
     "output_type": "display_data",
     "data": {
      "text/html": [
       "<style scoped>\n",
       "  .table-result-container {\n",
       "    max-height: 300px;\n",
       "    overflow: auto;\n",
       "  }\n",
       "  table, th, td {\n",
       "    border: 1px solid black;\n",
       "    border-collapse: collapse;\n",
       "  }\n",
       "  th, td {\n",
       "    padding: 5px;\n",
       "  }\n",
       "  th {\n",
       "    text-align: left;\n",
       "  }\n",
       "</style><div class='table-result-container'><table class='table-result'><thead style='background-color: white'><tr><th>Year</th><th>AvgTemp</th></tr></thead><tbody><tr><td>1995</td><td>67.2629851012579</td></tr><tr><td>1996</td><td>67.86967758228818</td></tr><tr><td>1997</td><td>68.34836746936332</td></tr><tr><td>1998</td><td>69.06291989664082</td></tr><tr><td>1999</td><td>68.02917794316642</td></tr><tr><td>2000</td><td>67.71886102847435</td></tr><tr><td>2001</td><td>67.73726484541146</td></tr><tr><td>2002</td><td>68.05932217366207</td></tr><tr><td>2003</td><td>67.9122232063773</td></tr><tr><td>2004</td><td>68.31447879572664</td></tr><tr><td>2005</td><td>67.78168187744457</td></tr><tr><td>2006</td><td>68.70920807327536</td></tr><tr><td>2007</td><td>68.87105562784646</td></tr><tr><td>2008</td><td>68.0895085896924</td></tr><tr><td>2009</td><td>68.72838223632029</td></tr><tr><td>2010</td><td>68.82422924901184</td></tr><tr><td>2011</td><td>67.65085130533478</td></tr><tr><td>2012</td><td>67.23867893253757</td></tr><tr><td>2013</td><td>67.83878858474075</td></tr><tr><td>2014</td><td>67.8062718640678</td></tr><tr><td>2015</td><td>68.66707195203205</td></tr><tr><td>2016</td><td>68.85475313807528</td></tr><tr><td>2017</td><td>68.4576696287685</td></tr><tr><td>2018</td><td>68.45521095982518</td></tr><tr><td>2019</td><td>68.66720946177593</td></tr><tr><td>2020</td><td>61.86792923565428</td></tr></tbody></table></div>"
      ]
     },
     "metadata": {
      "application/vnd.databricks.v1+output": {
       "addedWidgets": {},
       "aggData": [],
       "aggError": "",
       "aggOverflow": false,
       "aggSchema": [],
       "aggSeriesLimitReached": false,
       "aggType": "",
       "arguments": {},
       "columnCustomDisplayInfos": {},
       "data": [
        [
         1995,
         67.2629851012579
        ],
        [
         1996,
         67.86967758228818
        ],
        [
         1997,
         68.34836746936332
        ],
        [
         1998,
         69.06291989664082
        ],
        [
         1999,
         68.02917794316642
        ],
        [
         2000,
         67.71886102847435
        ],
        [
         2001,
         67.73726484541146
        ],
        [
         2002,
         68.05932217366207
        ],
        [
         2003,
         67.9122232063773
        ],
        [
         2004,
         68.31447879572664
        ],
        [
         2005,
         67.78168187744457
        ],
        [
         2006,
         68.70920807327536
        ],
        [
         2007,
         68.87105562784646
        ],
        [
         2008,
         68.0895085896924
        ],
        [
         2009,
         68.72838223632029
        ],
        [
         2010,
         68.82422924901184
        ],
        [
         2011,
         67.65085130533478
        ],
        [
         2012,
         67.23867893253757
        ],
        [
         2013,
         67.83878858474075
        ],
        [
         2014,
         67.8062718640678
        ],
        [
         2015,
         68.66707195203205
        ],
        [
         2016,
         68.85475313807528
        ],
        [
         2017,
         68.4576696287685
        ],
        [
         2018,
         68.45521095982518
        ],
        [
         2019,
         68.66720946177593
        ],
        [
         2020,
         61.86792923565428
        ]
       ],
       "datasetInfos": [],
       "dbfsResultPath": null,
       "isJsonSchema": true,
       "metadata": {},
       "overflow": false,
       "plotOptions": {
        "customPlotOptions": {},
        "displayType": "table",
        "pivotAggregation": null,
        "pivotColumns": null,
        "xColumns": null,
        "yColumns": null
       },
       "removedWidgets": [],
       "schema": [
        {
         "metadata": "{}",
         "name": "Year",
         "type": "\"integer\""
        },
        {
         "metadata": "{}",
         "name": "AvgTemp",
         "type": "\"double\""
        }
       ],
       "type": "table"
      }
     },
     "output_type": "display_data"
    }
   ],
   "source": [
    "b = df.filter(df.Region == \"Asia\").groupBy('Year').agg(avg('AvgTemperature').alias(\"AvgTemp\")).sort('Year')\n",
    "display(b)"
   ]
  },
  {
   "cell_type": "markdown",
   "metadata": {
    "application/vnd.databricks.v1+cell": {
     "cellMetadata": {
      "byteLimit": 2048000,
      "rowLimit": 10000
     },
     "inputWidgets": {},
     "nuid": "c0b766bd-ce13-462b-a24a-20ca18cf3b33",
     "showTitle": false,
     "title": ""
    }
   },
   "source": [
    "Question 1C"
   ]
  },
  {
   "cell_type": "code",
   "execution_count": 0,
   "metadata": {
    "application/vnd.databricks.v1+cell": {
     "cellMetadata": {
      "byteLimit": 2048000,
      "rowLimit": 10000
     },
     "inputWidgets": {},
     "nuid": "7255c6a3-895b-4fa9-92a7-72801c30e0b6",
     "showTitle": false,
     "title": ""
    }
   },
   "outputs": [
    {
     "output_type": "display_data",
     "data": {
      "text/html": [
       "<style scoped>\n",
       "  .table-result-container {\n",
       "    max-height: 300px;\n",
       "    overflow: auto;\n",
       "  }\n",
       "  table, th, td {\n",
       "    border: 1px solid black;\n",
       "    border-collapse: collapse;\n",
       "  }\n",
       "  th, td {\n",
       "    padding: 5px;\n",
       "  }\n",
       "  th {\n",
       "    text-align: left;\n",
       "  }\n",
       "</style><div class='table-result-container'><table class='table-result'><thead style='background-color: white'><tr><th>City</th><th>AvgTemp</th></tr></thead><tbody><tr><td>barcelona</td><td>61.78984408835005</td></tr><tr><td>bilbao</td><td>59.173121887854684</td></tr><tr><td>madrid</td><td>58.91773111062988</td></tr></tbody></table></div>"
      ]
     },
     "metadata": {
      "application/vnd.databricks.v1+output": {
       "addedWidgets": {},
       "aggData": [],
       "aggError": "",
       "aggOverflow": false,
       "aggSchema": [],
       "aggSeriesLimitReached": false,
       "aggType": "",
       "arguments": {},
       "columnCustomDisplayInfos": {},
       "data": [
        [
         "barcelona",
         61.78984408835005
        ],
        [
         "bilbao",
         59.173121887854684
        ],
        [
         "madrid",
         58.91773111062988
        ]
       ],
       "datasetInfos": [],
       "dbfsResultPath": null,
       "isJsonSchema": true,
       "metadata": {},
       "overflow": false,
       "plotOptions": {
        "customPlotOptions": {},
        "displayType": "table",
        "pivotAggregation": null,
        "pivotColumns": null,
        "xColumns": null,
        "yColumns": null
       },
       "removedWidgets": [],
       "schema": [
        {
         "metadata": "{}",
         "name": "City",
         "type": "\"string\""
        },
        {
         "metadata": "{}",
         "name": "AvgTemp",
         "type": "\"double\""
        }
       ],
       "type": "table"
      }
     },
     "output_type": "display_data"
    }
   ],
   "source": [
    "c = df.filter(df.Country == \"Spain\").groupBy('City').agg(avg('AvgTemperature').alias(\"AvgTemp\")).sort('City')\n",
    "display(c)"
   ]
  },
  {
   "cell_type": "markdown",
   "metadata": {
    "application/vnd.databricks.v1+cell": {
     "cellMetadata": {
      "byteLimit": 2048000,
      "rowLimit": 10000
     },
     "inputWidgets": {},
     "nuid": "f20e326d-bea8-4610-8885-bc7c2958fc3f",
     "showTitle": false,
     "title": ""
    }
   },
   "source": [
    "Question 1D"
   ]
  },
  {
   "cell_type": "code",
   "execution_count": 0,
   "metadata": {
    "application/vnd.databricks.v1+cell": {
     "cellMetadata": {
      "byteLimit": 2048000,
      "rowLimit": 10000
     },
     "inputWidgets": {},
     "nuid": "0985125c-fccf-4c6b-9cba-d7d97b694926",
     "showTitle": false,
     "title": ""
    }
   },
   "outputs": [
    {
     "output_type": "display_data",
     "data": {
      "text/html": [
       "<style scoped>\n",
       "  .table-result-container {\n",
       "    max-height: 300px;\n",
       "    overflow: auto;\n",
       "  }\n",
       "  table, th, td {\n",
       "    border: 1px solid black;\n",
       "    border-collapse: collapse;\n",
       "  }\n",
       "  th, td {\n",
       "    padding: 5px;\n",
       "  }\n",
       "  th {\n",
       "    text-align: left;\n",
       "  }\n",
       "</style><div class='table-result-container'><table class='table-result'><thead style='background-color: white'><tr><th>Country</th><th>City</th><th>AvgTemp</th></tr></thead><tbody><tr><td>Albania</td><td>tirana</td><td>61.135237970711394</td></tr><tr><td>Algeria</td><td>algiers</td><td>64.37253818654507</td></tr><tr><td>Argentina</td><td>buenos aires</td><td>62.91649875419788</td></tr><tr><td>Australia</td><td>canberra</td><td>56.4014755343388</td></tr><tr><td>Austria</td><td>vienna</td><td>51.46943722943731</td></tr><tr><td>Bahamas</td><td>nassau</td><td>78.56622639449847</td></tr><tr><td>Bahrain</td><td>manama</td><td>81.21907752273744</td></tr><tr><td>Bangladesh</td><td>dhaka</td><td>78.72032520325234</td></tr><tr><td>Barbados</td><td>bridgetown</td><td>81.07108635764779</td></tr><tr><td>Belarus</td><td>minsk</td><td>45.39047039291643</td></tr><tr><td>Belgium</td><td>brussels</td><td>51.5118640398354</td></tr><tr><td>Bermuda</td><td>hamilton</td><td>71.59983807124873</td></tr><tr><td>Bolivia</td><td>la paz</td><td>45.50655826558265</td></tr><tr><td>Bulgaria</td><td>sofia</td><td>51.6243039116221</td></tr><tr><td>Burundi</td><td>bujumbura</td><td>73.68981900452471</td></tr><tr><td>Canada</td><td>ottawa</td><td>44.22525751375754</td></tr><tr><td>Central African Republic</td><td>bangui</td><td>78.82184718529616</td></tr><tr><td>China</td><td>beijing</td><td>55.202587420158</td></tr><tr><td>Congo</td><td>brazzaville</td><td>78.17122244944332</td></tr><tr><td>Croatia</td><td>zagreb</td><td>54.41298082378286</td></tr><tr><td>Cuba</td><td>havana</td><td>75.84939520562996</td></tr><tr><td>Cyprus</td><td>nicosia</td><td>67.97264196342637</td></tr><tr><td>Czech Republic</td><td>prague</td><td>48.079449978345544</td></tr><tr><td>Denmark</td><td>copenhagen</td><td>47.40284693656621</td></tr><tr><td>Dominican Republic</td><td>santo domingo</td><td>79.72183719017981</td></tr><tr><td>Egypt</td><td>cairo</td><td>72.67604855315933</td></tr><tr><td>Equador</td><td>quito</td><td>57.363936912344414</td></tr><tr><td>Ethiopia</td><td>addis ababa</td><td>62.95038499230032</td></tr><tr><td>Finland</td><td>helsinki</td><td>42.672104351591095</td></tr><tr><td>France</td><td>paris</td><td>53.93095807082339</td></tr><tr><td>Gabon</td><td>libreville</td><td>79.87851362133846</td></tr><tr><td>Gambia</td><td>banjul</td><td>79.01938748685622</td></tr><tr><td>Georgia</td><td>tbilisi</td><td>56.34484272128731</td></tr><tr><td>Greece</td><td>athens</td><td>65.2547559055116</td></tr><tr><td>Guatemala</td><td>guatemala city</td><td>66.8639035591273</td></tr><tr><td>Guinea</td><td>conakry</td><td>81.58525085369075</td></tr><tr><td>Guinea-Bissau</td><td>bissau</td><td>82.33553368075677</td></tr><tr><td>Guyana</td><td>georgetown</td><td>83.34588014981283</td></tr><tr><td>Honduras</td><td>tegucigalpa</td><td>71.66292468389156</td></tr><tr><td>Hungary</td><td>budapest</td><td>51.57030421132389</td></tr><tr><td>Indonesia</td><td>jakarta</td><td>83.36622922134751</td></tr><tr><td>Ireland</td><td>dublin</td><td>49.531644473313804</td></tr><tr><td>Italy</td><td>rome</td><td>60.72471581682377</td></tr><tr><td>Japan</td><td>tokyo</td><td>61.566027931146316</td></tr><tr><td>Jordan</td><td>amman</td><td>64.72552523283531</td></tr><tr><td>Kenya</td><td>nairobi</td><td>67.490946774996</td></tr><tr><td>Kyrgyzstan</td><td>bishkek</td><td>53.47416841844964</td></tr><tr><td>Laos</td><td>vientiane</td><td>81.05564603691633</td></tr><tr><td>Latvia</td><td>riga</td><td>45.36726896701871</td></tr><tr><td>Lebanon</td><td>beirut</td><td>70.31200086805568</td></tr><tr><td>Macedonia</td><td>skopje</td><td>54.73791345841007</td></tr><tr><td>Madagascar</td><td>antananarivo</td><td>65.45140391128601</td></tr><tr><td>Malawi</td><td>lilongwe</td><td>70.03199545626656</td></tr><tr><td>Malaysia</td><td>kuala lumpur</td><td>82.2989224848813</td></tr><tr><td>Mauritania</td><td>nouakchott</td><td>78.11336918000707</td></tr><tr><td>Mexico</td><td>mexico city</td><td>62.661180931744305</td></tr><tr><td>Morocco</td><td>rabat</td><td>63.38186152345862</td></tr><tr><td>Mozambique</td><td>maputo</td><td>74.74497458410396</td></tr><tr><td>Namibia</td><td>windhoek</td><td>69.32590835454769</td></tr><tr><td>Nicaragua</td><td>managua</td><td>81.78517797871159</td></tr><tr><td>Nigeria</td><td>niamey</td><td>85.96389409817961</td></tr><tr><td>North Korea</td><td>pyongyang</td><td>51.873763964163494</td></tr><tr><td>Norway</td><td>oslo</td><td>41.7993530884807</td></tr><tr><td>Oman</td><td>muscat</td><td>82.96607022282267</td></tr><tr><td>Pakistan</td><td>islamabad</td><td>71.49295790416474</td></tr><tr><td>Panama</td><td>panama city</td><td>81.0164382071365</td></tr><tr><td>Peru</td><td>lima</td><td>67.09075729687069</td></tr><tr><td>Philippines</td><td>manila</td><td>82.36449479618376</td></tr><tr><td>Poland</td><td>warsaw</td><td>48.25283672585513</td></tr><tr><td>Portugal</td><td>lisbon</td><td>62.625254825417265</td></tr><tr><td>Qatar</td><td>doha</td><td>82.96221692491069</td></tr><tr><td>Romania</td><td>bucharest</td><td>52.83972068853537</td></tr><tr><td>Russia</td><td>yerevan</td><td>55.51709535759093</td></tr><tr><td>Russia</td><td>moscow</td><td>42.39905793178134</td></tr><tr><td>Saudi Arabia</td><td>riyadh</td><td>79.34457805221518</td></tr><tr><td>Senegal</td><td>dakar</td><td>76.33087262872628</td></tr><tr><td>Serbia-Montenegro</td><td>pristina</td><td>50.235201724668975</td></tr><tr><td>Sierra Leone</td><td>freetown</td><td>81.71703655352484</td></tr><tr><td>Singapore</td><td>singapore</td><td>82.24119748809011</td></tr><tr><td>Slovakia</td><td>bratislava</td><td>51.9678254277669</td></tr><tr><td>South Korea</td><td>seoul</td><td>53.40429932856834</td></tr><tr><td>Spain</td><td>madrid</td><td>58.91773111062988</td></tr><tr><td>Suriname</td><td>paramaribo</td><td>79.6945913936042</td></tr><tr><td>Sweden</td><td>stockholm</td><td>45.60851294270562</td></tr><tr><td>Switzerland</td><td>bern</td><td>49.835405815972415</td></tr><tr><td>Syria</td><td>damascus</td><td>63.77238870792596</td></tr><tr><td>Taiwan</td><td>taipei</td><td>73.88646641542871</td></tr><tr><td>Thailand</td><td>bangkok</td><td>83.91882699982649</td></tr><tr><td>The Netherlands</td><td>amsterdam</td><td>51.30470983109561</td></tr><tr><td>Tunisia</td><td>tunis</td><td>67.08807409012111</td></tr><tr><td>Turkey</td><td>ankara</td><td>51.39081853616294</td></tr><tr><td>Uganda</td><td>kampala</td><td>72.58953292793392</td></tr><tr><td>United Arab Emirates</td><td>abu dhabi</td><td>82.85980285961872</td></tr><tr><td>United Kingdom</td><td>belfast</td><td>50.6333731667571</td></tr><tr><td>United Kingdom</td><td>london</td><td>52.8404460322614</td></tr><tr><td>Uzbekistan</td><td>tashkent</td><td>60.52799476325585</td></tr><tr><td>Venezuela</td><td>caracas</td><td>81.12558929941896</td></tr><tr><td>Vietnam</td><td>hanoi</td><td>75.41495124593709</td></tr><tr><td>Yugoslavia</td><td>belgrade</td><td>54.52991554785632</td></tr><tr><td>Zambia</td><td>lusaka</td><td>70.08715898400767</td></tr></tbody></table></div>"
      ]
     },
     "metadata": {
      "application/vnd.databricks.v1+output": {
       "addedWidgets": {},
       "aggData": [],
       "aggError": "",
       "aggOverflow": false,
       "aggSchema": [],
       "aggSeriesLimitReached": false,
       "aggType": "",
       "arguments": {},
       "columnCustomDisplayInfos": {},
       "data": [
        [
         "Albania",
         "tirana",
         61.135237970711394
        ],
        [
         "Algeria",
         "algiers",
         64.37253818654507
        ],
        [
         "Argentina",
         "buenos aires",
         62.91649875419788
        ],
        [
         "Australia",
         "canberra",
         56.4014755343388
        ],
        [
         "Austria",
         "vienna",
         51.46943722943731
        ],
        [
         "Bahamas",
         "nassau",
         78.56622639449847
        ],
        [
         "Bahrain",
         "manama",
         81.21907752273744
        ],
        [
         "Bangladesh",
         "dhaka",
         78.72032520325234
        ],
        [
         "Barbados",
         "bridgetown",
         81.07108635764779
        ],
        [
         "Belarus",
         "minsk",
         45.39047039291643
        ],
        [
         "Belgium",
         "brussels",
         51.5118640398354
        ],
        [
         "Bermuda",
         "hamilton",
         71.59983807124873
        ],
        [
         "Bolivia",
         "la paz",
         45.50655826558265
        ],
        [
         "Bulgaria",
         "sofia",
         51.6243039116221
        ],
        [
         "Burundi",
         "bujumbura",
         73.68981900452471
        ],
        [
         "Canada",
         "ottawa",
         44.22525751375754
        ],
        [
         "Central African Republic",
         "bangui",
         78.82184718529616
        ],
        [
         "China",
         "beijing",
         55.202587420158
        ],
        [
         "Congo",
         "brazzaville",
         78.17122244944332
        ],
        [
         "Croatia",
         "zagreb",
         54.41298082378286
        ],
        [
         "Cuba",
         "havana",
         75.84939520562996
        ],
        [
         "Cyprus",
         "nicosia",
         67.97264196342637
        ],
        [
         "Czech Republic",
         "prague",
         48.079449978345544
        ],
        [
         "Denmark",
         "copenhagen",
         47.40284693656621
        ],
        [
         "Dominican Republic",
         "santo domingo",
         79.72183719017981
        ],
        [
         "Egypt",
         "cairo",
         72.67604855315933
        ],
        [
         "Equador",
         "quito",
         57.363936912344414
        ],
        [
         "Ethiopia",
         "addis ababa",
         62.95038499230032
        ],
        [
         "Finland",
         "helsinki",
         42.672104351591095
        ],
        [
         "France",
         "paris",
         53.93095807082339
        ],
        [
         "Gabon",
         "libreville",
         79.87851362133846
        ],
        [
         "Gambia",
         "banjul",
         79.01938748685622
        ],
        [
         "Georgia",
         "tbilisi",
         56.34484272128731
        ],
        [
         "Greece",
         "athens",
         65.2547559055116
        ],
        [
         "Guatemala",
         "guatemala city",
         66.8639035591273
        ],
        [
         "Guinea",
         "conakry",
         81.58525085369075
        ],
        [
         "Guinea-Bissau",
         "bissau",
         82.33553368075677
        ],
        [
         "Guyana",
         "georgetown",
         83.34588014981283
        ],
        [
         "Honduras",
         "tegucigalpa",
         71.66292468389156
        ],
        [
         "Hungary",
         "budapest",
         51.57030421132389
        ],
        [
         "Indonesia",
         "jakarta",
         83.36622922134751
        ],
        [
         "Ireland",
         "dublin",
         49.531644473313804
        ],
        [
         "Italy",
         "rome",
         60.72471581682377
        ],
        [
         "Japan",
         "tokyo",
         61.566027931146316
        ],
        [
         "Jordan",
         "amman",
         64.72552523283531
        ],
        [
         "Kenya",
         "nairobi",
         67.490946774996
        ],
        [
         "Kyrgyzstan",
         "bishkek",
         53.47416841844964
        ],
        [
         "Laos",
         "vientiane",
         81.05564603691633
        ],
        [
         "Latvia",
         "riga",
         45.36726896701871
        ],
        [
         "Lebanon",
         "beirut",
         70.31200086805568
        ],
        [
         "Macedonia",
         "skopje",
         54.73791345841007
        ],
        [
         "Madagascar",
         "antananarivo",
         65.45140391128601
        ],
        [
         "Malawi",
         "lilongwe",
         70.03199545626656
        ],
        [
         "Malaysia",
         "kuala lumpur",
         82.2989224848813
        ],
        [
         "Mauritania",
         "nouakchott",
         78.11336918000707
        ],
        [
         "Mexico",
         "mexico city",
         62.661180931744305
        ],
        [
         "Morocco",
         "rabat",
         63.38186152345862
        ],
        [
         "Mozambique",
         "maputo",
         74.74497458410396
        ],
        [
         "Namibia",
         "windhoek",
         69.32590835454769
        ],
        [
         "Nicaragua",
         "managua",
         81.78517797871159
        ],
        [
         "Nigeria",
         "niamey",
         85.96389409817961
        ],
        [
         "North Korea",
         "pyongyang",
         51.873763964163494
        ],
        [
         "Norway",
         "oslo",
         41.7993530884807
        ],
        [
         "Oman",
         "muscat",
         82.96607022282267
        ],
        [
         "Pakistan",
         "islamabad",
         71.49295790416474
        ],
        [
         "Panama",
         "panama city",
         81.0164382071365
        ],
        [
         "Peru",
         "lima",
         67.09075729687069
        ],
        [
         "Philippines",
         "manila",
         82.36449479618376
        ],
        [
         "Poland",
         "warsaw",
         48.25283672585513
        ],
        [
         "Portugal",
         "lisbon",
         62.625254825417265
        ],
        [
         "Qatar",
         "doha",
         82.96221692491069
        ],
        [
         "Romania",
         "bucharest",
         52.83972068853537
        ],
        [
         "Russia",
         "yerevan",
         55.51709535759093
        ],
        [
         "Russia",
         "moscow",
         42.39905793178134
        ],
        [
         "Saudi Arabia",
         "riyadh",
         79.34457805221518
        ],
        [
         "Senegal",
         "dakar",
         76.33087262872628
        ],
        [
         "Serbia-Montenegro",
         "pristina",
         50.235201724668975
        ],
        [
         "Sierra Leone",
         "freetown",
         81.71703655352484
        ],
        [
         "Singapore",
         "singapore",
         82.24119748809011
        ],
        [
         "Slovakia",
         "bratislava",
         51.9678254277669
        ],
        [
         "South Korea",
         "seoul",
         53.40429932856834
        ],
        [
         "Spain",
         "madrid",
         58.91773111062988
        ],
        [
         "Suriname",
         "paramaribo",
         79.6945913936042
        ],
        [
         "Sweden",
         "stockholm",
         45.60851294270562
        ],
        [
         "Switzerland",
         "bern",
         49.835405815972415
        ],
        [
         "Syria",
         "damascus",
         63.77238870792596
        ],
        [
         "Taiwan",
         "taipei",
         73.88646641542871
        ],
        [
         "Thailand",
         "bangkok",
         83.91882699982649
        ],
        [
         "The Netherlands",
         "amsterdam",
         51.30470983109561
        ],
        [
         "Tunisia",
         "tunis",
         67.08807409012111
        ],
        [
         "Turkey",
         "ankara",
         51.39081853616294
        ],
        [
         "Uganda",
         "kampala",
         72.58953292793392
        ],
        [
         "United Arab Emirates",
         "abu dhabi",
         82.85980285961872
        ],
        [
         "United Kingdom",
         "belfast",
         50.6333731667571
        ],
        [
         "United Kingdom",
         "london",
         52.8404460322614
        ],
        [
         "Uzbekistan",
         "tashkent",
         60.52799476325585
        ],
        [
         "Venezuela",
         "caracas",
         81.12558929941896
        ],
        [
         "Vietnam",
         "hanoi",
         75.41495124593709
        ],
        [
         "Yugoslavia",
         "belgrade",
         54.52991554785632
        ],
        [
         "Zambia",
         "lusaka",
         70.08715898400767
        ]
       ],
       "datasetInfos": [],
       "dbfsResultPath": null,
       "isJsonSchema": true,
       "metadata": {},
       "overflow": false,
       "plotOptions": {
        "customPlotOptions": {},
        "displayType": "table",
        "pivotAggregation": null,
        "pivotColumns": null,
        "xColumns": null,
        "yColumns": null
       },
       "removedWidgets": [],
       "schema": [
        {
         "metadata": "{}",
         "name": "Country",
         "type": "\"string\""
        },
        {
         "metadata": "{}",
         "name": "City",
         "type": "\"string\""
        },
        {
         "metadata": "{}",
         "name": "AvgTemp",
         "type": "\"double\""
        }
       ],
       "type": "table"
      }
     },
     "output_type": "display_data"
    }
   ],
   "source": [
    "capitals = country_list.rdd.map(lambda x: x[1]).collect()\n",
    "only_capitals = df.filter(df['City'].isin(capitals))\n",
    "d = only_capitals.select('Country', 'City', 'AvgTemperature').groupBy('Country', 'City').agg(avg('AvgTemperature').alias('AvgTemp')).sort('Country')\n",
    "display(d)"
   ]
  },
  {
   "cell_type": "markdown",
   "metadata": {
    "application/vnd.databricks.v1+cell": {
     "cellMetadata": {
      "byteLimit": 2048000,
      "rowLimit": 10000
     },
     "inputWidgets": {},
     "nuid": "c6c90e81-8e84-451f-970c-49d944aa6853",
     "showTitle": false,
     "title": ""
    }
   },
   "source": [
    "Question 1E"
   ]
  },
  {
   "cell_type": "code",
   "execution_count": 0,
   "metadata": {
    "application/vnd.databricks.v1+cell": {
     "cellMetadata": {
      "byteLimit": 2048000,
      "rowLimit": 10000
     },
     "inputWidgets": {},
     "nuid": "9e29021a-0975-4bbc-bd78-2ce61cbb7c6f",
     "showTitle": false,
     "title": ""
    }
   },
   "outputs": [
    {
     "output_type": "display_data",
     "data": {
      "text/html": [
       "<style scoped>\n",
       "  .table-result-container {\n",
       "    max-height: 300px;\n",
       "    overflow: auto;\n",
       "  }\n",
       "  table, th, td {\n",
       "    border: 1px solid black;\n",
       "    border-collapse: collapse;\n",
       "  }\n",
       "  th, td {\n",
       "    padding: 5px;\n",
       "  }\n",
       "  th {\n",
       "    text-align: left;\n",
       "  }\n",
       "</style><div class='table-result-container'><table class='table-result'><thead style='background-color: white'><tr><th>Country</th><th>City</th><th>AvgTemp</th></tr></thead><tbody><tr><td>Albania</td><td>tirana</td><td>61.135237970711394</td></tr><tr><td>Algeria</td><td>algiers</td><td>64.37253818654507</td></tr><tr><td>Argentina</td><td>buenos aires</td><td>62.91649875419788</td></tr><tr><td>Australia</td><td>canberra</td><td>56.4014755343388</td></tr><tr><td>Austria</td><td>vienna</td><td>51.46943722943731</td></tr><tr><td>Bahamas</td><td>nassau</td><td>78.56622639449847</td></tr><tr><td>Bahrain</td><td>manama</td><td>81.21907752273744</td></tr><tr><td>Bangladesh</td><td>dhaka</td><td>78.72032520325234</td></tr><tr><td>Barbados</td><td>bridgetown</td><td>81.07108635764779</td></tr><tr><td>Belarus</td><td>minsk</td><td>45.39047039291643</td></tr><tr><td>Belgium</td><td>brussels</td><td>51.5118640398354</td></tr><tr><td>Bermuda</td><td>hamilton</td><td>71.59983807124873</td></tr><tr><td>Bolivia</td><td>la paz</td><td>45.50655826558265</td></tr><tr><td>Bulgaria</td><td>sofia</td><td>51.6243039116221</td></tr><tr><td>Burundi</td><td>bujumbura</td><td>73.68981900452471</td></tr><tr><td>Canada</td><td>ottawa</td><td>44.22525751375754</td></tr><tr><td>Central African Republic</td><td>bangui</td><td>78.82184718529616</td></tr><tr><td>China</td><td>beijing</td><td>55.202587420158</td></tr><tr><td>Congo</td><td>brazzaville</td><td>78.17122244944332</td></tr><tr><td>Croatia</td><td>zagreb</td><td>54.41298082378286</td></tr><tr><td>Cuba</td><td>havana</td><td>75.84939520562996</td></tr><tr><td>Cyprus</td><td>nicosia</td><td>67.97264196342637</td></tr><tr><td>Czech Republic</td><td>prague</td><td>48.079449978345544</td></tr><tr><td>Denmark</td><td>copenhagen</td><td>47.40284693656621</td></tr><tr><td>Dominican Republic</td><td>santo domingo</td><td>79.72183719017981</td></tr><tr><td>Egypt</td><td>cairo</td><td>72.67604855315933</td></tr><tr><td>Equador</td><td>quito</td><td>57.363936912344414</td></tr><tr><td>Ethiopia</td><td>addis ababa</td><td>62.95038499230032</td></tr><tr><td>Finland</td><td>helsinki</td><td>42.672104351591095</td></tr><tr><td>France</td><td>paris</td><td>53.93095807082339</td></tr><tr><td>Gabon</td><td>libreville</td><td>79.87851362133846</td></tr><tr><td>Gambia</td><td>banjul</td><td>79.01938748685622</td></tr><tr><td>Georgia</td><td>tbilisi</td><td>56.34484272128731</td></tr><tr><td>Greece</td><td>athens</td><td>65.2547559055116</td></tr><tr><td>Guatemala</td><td>guatemala city</td><td>66.8639035591273</td></tr><tr><td>Guinea</td><td>conakry</td><td>81.58525085369075</td></tr><tr><td>Guinea-Bissau</td><td>bissau</td><td>82.33553368075677</td></tr><tr><td>Guyana</td><td>georgetown</td><td>83.34588014981283</td></tr><tr><td>Honduras</td><td>tegucigalpa</td><td>71.66292468389156</td></tr><tr><td>Hungary</td><td>budapest</td><td>51.57030421132389</td></tr><tr><td>Indonesia</td><td>jakarta</td><td>83.36622922134751</td></tr><tr><td>Ireland</td><td>dublin</td><td>49.531644473313804</td></tr><tr><td>Italy</td><td>rome</td><td>60.72471581682377</td></tr><tr><td>Japan</td><td>tokyo</td><td>61.566027931146316</td></tr><tr><td>Jordan</td><td>amman</td><td>64.72552523283531</td></tr><tr><td>Kenya</td><td>nairobi</td><td>67.490946774996</td></tr><tr><td>Kyrgyzstan</td><td>bishkek</td><td>53.47416841844964</td></tr><tr><td>Laos</td><td>vientiane</td><td>81.05564603691633</td></tr><tr><td>Latvia</td><td>riga</td><td>45.36726896701871</td></tr><tr><td>Lebanon</td><td>beirut</td><td>70.31200086805568</td></tr><tr><td>Macedonia</td><td>skopje</td><td>54.73791345841007</td></tr><tr><td>Madagascar</td><td>antananarivo</td><td>65.45140391128601</td></tr><tr><td>Malawi</td><td>lilongwe</td><td>70.03199545626656</td></tr><tr><td>Malaysia</td><td>kuala lumpur</td><td>82.2989224848813</td></tr><tr><td>Mauritania</td><td>nouakchott</td><td>78.11336918000707</td></tr><tr><td>Mexico</td><td>mexico city</td><td>62.661180931744305</td></tr><tr><td>Morocco</td><td>rabat</td><td>63.38186152345862</td></tr><tr><td>Mozambique</td><td>maputo</td><td>74.74497458410396</td></tr><tr><td>Namibia</td><td>windhoek</td><td>69.32590835454769</td></tr><tr><td>Nicaragua</td><td>managua</td><td>81.78517797871159</td></tr><tr><td>Nigeria</td><td>niamey</td><td>85.96389409817961</td></tr><tr><td>North Korea</td><td>pyongyang</td><td>51.873763964163494</td></tr><tr><td>Norway</td><td>oslo</td><td>41.7993530884807</td></tr><tr><td>Oman</td><td>muscat</td><td>82.96607022282267</td></tr><tr><td>Pakistan</td><td>islamabad</td><td>71.49295790416474</td></tr><tr><td>Panama</td><td>panama city</td><td>81.0164382071365</td></tr><tr><td>Peru</td><td>lima</td><td>67.09075729687069</td></tr><tr><td>Philippines</td><td>manila</td><td>82.36449479618376</td></tr><tr><td>Poland</td><td>warsaw</td><td>48.25283672585513</td></tr><tr><td>Portugal</td><td>lisbon</td><td>62.625254825417265</td></tr><tr><td>Qatar</td><td>doha</td><td>82.96221692491069</td></tr><tr><td>Romania</td><td>bucharest</td><td>52.83972068853537</td></tr><tr><td>Russia</td><td>yerevan</td><td>55.51709535759093</td></tr><tr><td>Russia</td><td>moscow</td><td>42.39905793178134</td></tr><tr><td>Saudi Arabia</td><td>riyadh</td><td>79.34457805221518</td></tr><tr><td>Senegal</td><td>dakar</td><td>76.33087262872628</td></tr><tr><td>Serbia-Montenegro</td><td>pristina</td><td>50.235201724668975</td></tr><tr><td>Sierra Leone</td><td>freetown</td><td>81.71703655352484</td></tr><tr><td>Singapore</td><td>singapore</td><td>82.24119748809011</td></tr><tr><td>Slovakia</td><td>bratislava</td><td>51.9678254277669</td></tr><tr><td>South Korea</td><td>seoul</td><td>53.40429932856834</td></tr><tr><td>Spain</td><td>madrid</td><td>58.91773111062988</td></tr><tr><td>Suriname</td><td>paramaribo</td><td>79.6945913936042</td></tr><tr><td>Sweden</td><td>stockholm</td><td>45.60851294270562</td></tr><tr><td>Switzerland</td><td>bern</td><td>49.835405815972415</td></tr><tr><td>Syria</td><td>damascus</td><td>63.77238870792596</td></tr><tr><td>Taiwan</td><td>taipei</td><td>73.88646641542871</td></tr><tr><td>Thailand</td><td>bangkok</td><td>83.91882699982649</td></tr><tr><td>The Netherlands</td><td>amsterdam</td><td>51.30470983109561</td></tr><tr><td>Tunisia</td><td>tunis</td><td>67.08807409012111</td></tr><tr><td>Turkey</td><td>ankara</td><td>51.39081853616294</td></tr><tr><td>Uganda</td><td>kampala</td><td>72.58953292793392</td></tr><tr><td>United Arab Emirates</td><td>abu dhabi</td><td>82.85980285961872</td></tr><tr><td>United Kingdom</td><td>belfast</td><td>50.6333731667571</td></tr><tr><td>United Kingdom</td><td>london</td><td>52.8404460322614</td></tr><tr><td>Uzbekistan</td><td>tashkent</td><td>60.52799476325585</td></tr><tr><td>Venezuela</td><td>caracas</td><td>81.12558929941896</td></tr><tr><td>Vietnam</td><td>hanoi</td><td>75.41495124593709</td></tr><tr><td>Yugoslavia</td><td>belgrade</td><td>54.52991554785632</td></tr><tr><td>Zambia</td><td>lusaka</td><td>70.08715898400767</td></tr></tbody></table></div>"
      ]
     },
     "metadata": {
      "application/vnd.databricks.v1+output": {
       "addedWidgets": {},
       "aggData": [],
       "aggError": "",
       "aggOverflow": false,
       "aggSchema": [],
       "aggSeriesLimitReached": false,
       "aggType": "",
       "arguments": {},
       "columnCustomDisplayInfos": {},
       "data": [
        [
         "Albania",
         "tirana",
         61.135237970711394
        ],
        [
         "Algeria",
         "algiers",
         64.37253818654507
        ],
        [
         "Argentina",
         "buenos aires",
         62.91649875419788
        ],
        [
         "Australia",
         "canberra",
         56.4014755343388
        ],
        [
         "Austria",
         "vienna",
         51.46943722943731
        ],
        [
         "Bahamas",
         "nassau",
         78.56622639449847
        ],
        [
         "Bahrain",
         "manama",
         81.21907752273744
        ],
        [
         "Bangladesh",
         "dhaka",
         78.72032520325234
        ],
        [
         "Barbados",
         "bridgetown",
         81.07108635764779
        ],
        [
         "Belarus",
         "minsk",
         45.39047039291643
        ],
        [
         "Belgium",
         "brussels",
         51.5118640398354
        ],
        [
         "Bermuda",
         "hamilton",
         71.59983807124873
        ],
        [
         "Bolivia",
         "la paz",
         45.50655826558265
        ],
        [
         "Bulgaria",
         "sofia",
         51.6243039116221
        ],
        [
         "Burundi",
         "bujumbura",
         73.68981900452471
        ],
        [
         "Canada",
         "ottawa",
         44.22525751375754
        ],
        [
         "Central African Republic",
         "bangui",
         78.82184718529616
        ],
        [
         "China",
         "beijing",
         55.202587420158
        ],
        [
         "Congo",
         "brazzaville",
         78.17122244944332
        ],
        [
         "Croatia",
         "zagreb",
         54.41298082378286
        ],
        [
         "Cuba",
         "havana",
         75.84939520562996
        ],
        [
         "Cyprus",
         "nicosia",
         67.97264196342637
        ],
        [
         "Czech Republic",
         "prague",
         48.079449978345544
        ],
        [
         "Denmark",
         "copenhagen",
         47.40284693656621
        ],
        [
         "Dominican Republic",
         "santo domingo",
         79.72183719017981
        ],
        [
         "Egypt",
         "cairo",
         72.67604855315933
        ],
        [
         "Equador",
         "quito",
         57.363936912344414
        ],
        [
         "Ethiopia",
         "addis ababa",
         62.95038499230032
        ],
        [
         "Finland",
         "helsinki",
         42.672104351591095
        ],
        [
         "France",
         "paris",
         53.93095807082339
        ],
        [
         "Gabon",
         "libreville",
         79.87851362133846
        ],
        [
         "Gambia",
         "banjul",
         79.01938748685622
        ],
        [
         "Georgia",
         "tbilisi",
         56.34484272128731
        ],
        [
         "Greece",
         "athens",
         65.2547559055116
        ],
        [
         "Guatemala",
         "guatemala city",
         66.8639035591273
        ],
        [
         "Guinea",
         "conakry",
         81.58525085369075
        ],
        [
         "Guinea-Bissau",
         "bissau",
         82.33553368075677
        ],
        [
         "Guyana",
         "georgetown",
         83.34588014981283
        ],
        [
         "Honduras",
         "tegucigalpa",
         71.66292468389156
        ],
        [
         "Hungary",
         "budapest",
         51.57030421132389
        ],
        [
         "Indonesia",
         "jakarta",
         83.36622922134751
        ],
        [
         "Ireland",
         "dublin",
         49.531644473313804
        ],
        [
         "Italy",
         "rome",
         60.72471581682377
        ],
        [
         "Japan",
         "tokyo",
         61.566027931146316
        ],
        [
         "Jordan",
         "amman",
         64.72552523283531
        ],
        [
         "Kenya",
         "nairobi",
         67.490946774996
        ],
        [
         "Kyrgyzstan",
         "bishkek",
         53.47416841844964
        ],
        [
         "Laos",
         "vientiane",
         81.05564603691633
        ],
        [
         "Latvia",
         "riga",
         45.36726896701871
        ],
        [
         "Lebanon",
         "beirut",
         70.31200086805568
        ],
        [
         "Macedonia",
         "skopje",
         54.73791345841007
        ],
        [
         "Madagascar",
         "antananarivo",
         65.45140391128601
        ],
        [
         "Malawi",
         "lilongwe",
         70.03199545626656
        ],
        [
         "Malaysia",
         "kuala lumpur",
         82.2989224848813
        ],
        [
         "Mauritania",
         "nouakchott",
         78.11336918000707
        ],
        [
         "Mexico",
         "mexico city",
         62.661180931744305
        ],
        [
         "Morocco",
         "rabat",
         63.38186152345862
        ],
        [
         "Mozambique",
         "maputo",
         74.74497458410396
        ],
        [
         "Namibia",
         "windhoek",
         69.32590835454769
        ],
        [
         "Nicaragua",
         "managua",
         81.78517797871159
        ],
        [
         "Nigeria",
         "niamey",
         85.96389409817961
        ],
        [
         "North Korea",
         "pyongyang",
         51.873763964163494
        ],
        [
         "Norway",
         "oslo",
         41.7993530884807
        ],
        [
         "Oman",
         "muscat",
         82.96607022282267
        ],
        [
         "Pakistan",
         "islamabad",
         71.49295790416474
        ],
        [
         "Panama",
         "panama city",
         81.0164382071365
        ],
        [
         "Peru",
         "lima",
         67.09075729687069
        ],
        [
         "Philippines",
         "manila",
         82.36449479618376
        ],
        [
         "Poland",
         "warsaw",
         48.25283672585513
        ],
        [
         "Portugal",
         "lisbon",
         62.625254825417265
        ],
        [
         "Qatar",
         "doha",
         82.96221692491069
        ],
        [
         "Romania",
         "bucharest",
         52.83972068853537
        ],
        [
         "Russia",
         "yerevan",
         55.51709535759093
        ],
        [
         "Russia",
         "moscow",
         42.39905793178134
        ],
        [
         "Saudi Arabia",
         "riyadh",
         79.34457805221518
        ],
        [
         "Senegal",
         "dakar",
         76.33087262872628
        ],
        [
         "Serbia-Montenegro",
         "pristina",
         50.235201724668975
        ],
        [
         "Sierra Leone",
         "freetown",
         81.71703655352484
        ],
        [
         "Singapore",
         "singapore",
         82.24119748809011
        ],
        [
         "Slovakia",
         "bratislava",
         51.9678254277669
        ],
        [
         "South Korea",
         "seoul",
         53.40429932856834
        ],
        [
         "Spain",
         "madrid",
         58.91773111062988
        ],
        [
         "Suriname",
         "paramaribo",
         79.6945913936042
        ],
        [
         "Sweden",
         "stockholm",
         45.60851294270562
        ],
        [
         "Switzerland",
         "bern",
         49.835405815972415
        ],
        [
         "Syria",
         "damascus",
         63.77238870792596
        ],
        [
         "Taiwan",
         "taipei",
         73.88646641542871
        ],
        [
         "Thailand",
         "bangkok",
         83.91882699982649
        ],
        [
         "The Netherlands",
         "amsterdam",
         51.30470983109561
        ],
        [
         "Tunisia",
         "tunis",
         67.08807409012111
        ],
        [
         "Turkey",
         "ankara",
         51.39081853616294
        ],
        [
         "Uganda",
         "kampala",
         72.58953292793392
        ],
        [
         "United Arab Emirates",
         "abu dhabi",
         82.85980285961872
        ],
        [
         "United Kingdom",
         "belfast",
         50.6333731667571
        ],
        [
         "United Kingdom",
         "london",
         52.8404460322614
        ],
        [
         "Uzbekistan",
         "tashkent",
         60.52799476325585
        ],
        [
         "Venezuela",
         "caracas",
         81.12558929941896
        ],
        [
         "Vietnam",
         "hanoi",
         75.41495124593709
        ],
        [
         "Yugoslavia",
         "belgrade",
         54.52991554785632
        ],
        [
         "Zambia",
         "lusaka",
         70.08715898400767
        ]
       ],
       "datasetInfos": [],
       "dbfsResultPath": null,
       "isJsonSchema": true,
       "metadata": {},
       "overflow": false,
       "plotOptions": {
        "customPlotOptions": {},
        "displayType": "table",
        "pivotAggregation": null,
        "pivotColumns": null,
        "xColumns": null,
        "yColumns": null
       },
       "removedWidgets": [],
       "schema": [
        {
         "metadata": "{}",
         "name": "Country",
         "type": "\"string\""
        },
        {
         "metadata": "{}",
         "name": "City",
         "type": "\"string\""
        },
        {
         "metadata": "{}",
         "name": "AvgTemp",
         "type": "\"double\""
        }
       ],
       "type": "table"
      }
     },
     "output_type": "display_data"
    }
   ],
   "source": [
    "capitals = country_list.rdd.map(lambda x: x[1]).collect()\n",
    "capitals_broadcast = spark.sparkContext.broadcast(capitals)\n",
    "only_capitals = df.where((df['City'].isin(capitals_broadcast.value)))\n",
    "e = only_capitals.select('Country', 'City', 'AvgTemperature').groupBy('Country', 'City').agg(avg('AvgTemperature').alias('AvgTemp')).sort('Country')\n",
    "display(e)"
   ]
  },
  {
   "cell_type": "markdown",
   "metadata": {
    "application/vnd.databricks.v1+cell": {
     "cellMetadata": {
      "byteLimit": 2048000,
      "rowLimit": 10000
     },
     "inputWidgets": {},
     "nuid": "bc4d32f5-d84a-46e7-80b6-3bcd28eeb211",
     "showTitle": false,
     "title": ""
    }
   },
   "source": [
    "Question 1F"
   ]
  },
  {
   "cell_type": "code",
   "execution_count": 0,
   "metadata": {
    "application/vnd.databricks.v1+cell": {
     "cellMetadata": {
      "byteLimit": 2048000,
      "rowLimit": 10000
     },
     "inputWidgets": {},
     "nuid": "74233885-fd3d-49b2-912f-3b66bb8e411e",
     "showTitle": false,
     "title": ""
    }
   },
   "outputs": [],
   "source": [
    "def f_function(year):\n",
    "    if year >= 2000:\n",
    "        return True\n",
    "    else:\n",
    "        return False"
   ]
  },
  {
   "cell_type": "code",
   "execution_count": 0,
   "metadata": {
    "application/vnd.databricks.v1+cell": {
     "cellMetadata": {
      "byteLimit": 2048000,
      "rowLimit": 10000
     },
     "inputWidgets": {},
     "nuid": "2f3a9ca3-f5db-4d82-ae70-d92c87f6da26",
     "showTitle": false,
     "title": ""
    }
   },
   "outputs": [],
   "source": [
    "yearUDF = udf(lambda x: f_function(x), BooleanType())\n",
    "test = df.select(\"Country\", \"City\", \"Year\", \"AvgTemperature\", yearUDF(\"Year\").alias('IsYear2000'))\n",
    "test1 = test.filter(test['IsYear2000'] == True)\n",
    "capitals = country_list.rdd.map(lambda x: x[1]).collect()\n",
    "only_capitals = test1.filter(test1['City'].isin(capitals))\n",
    "f = only_capitals.select('Country', 'City', 'AvgTemperature').groupBy('Country', 'City').agg(avg('AvgTemperature').alias('AvgTemp')).sort('Country')"
   ]
  },
  {
   "cell_type": "code",
   "execution_count": 0,
   "metadata": {
    "application/vnd.databricks.v1+cell": {
     "cellMetadata": {
      "byteLimit": 2048000,
      "rowLimit": 10000
     },
     "inputWidgets": {},
     "nuid": "789d6782-7620-49fc-8621-5d792466e7ab",
     "showTitle": false,
     "title": ""
    }
   },
   "outputs": [],
   "source": [
    "def createString(Capital, Country, avgTemp):\n",
    "    f_output = Capital.capitalize() + \" is the capital of \" + Country + \" and it's average temperature is \" + str(avgTemp)\n",
    "    return f_output"
   ]
  },
  {
   "cell_type": "code",
   "execution_count": 0,
   "metadata": {
    "application/vnd.databricks.v1+cell": {
     "cellMetadata": {
      "byteLimit": 2048000,
      "rowLimit": 10000
     },
     "inputWidgets": {},
     "nuid": "e9b31c3a-7b21-4756-b028-c397bb3e2e5a",
     "showTitle": false,
     "title": ""
    }
   },
   "outputs": [
    {
     "output_type": "stream",
     "name": "stdout",
     "output_type": "stream",
     "text": [
      "Tirana is the capital of Albania and it's average temperature is 61.01525893104418\nAlgiers is the capital of Algeria and it's average temperature is 64.39437550579977\nBuenos aires is the capital of Argentina and it's average temperature is 63.08454999325328\nCanberra is the capital of Australia and it's average temperature is 56.64297665632144\nVienna is the capital of Austria and it's average temperature is 51.83600215662492\nNassau is the capital of Bahamas and it's average temperature is 78.89768864717884\nManama is the capital of Bahrain and it's average temperature is 81.3842346594743\nDhaka is the capital of Bangladesh and it's average temperature is 78.79319081551886\nBridgetown is the capital of Barbados and it's average temperature is 81.08751338944161\nMinsk is the capital of Belarus and it's average temperature is 45.726364643945814\nBrussels is the capital of Belgium and it's average temperature is 51.66530942429563\nHamilton is the capital of Bermuda and it's average temperature is 71.48836608066183\nLa paz is the capital of Bolivia and it's average temperature is 45.576472177201595\nSofia is the capital of Bulgaria and it's average temperature is 51.945604099244804\nBujumbura is the capital of Burundi and it's average temperature is 63.21291390728487\nOttawa is the capital of Canada and it's average temperature is 44.121952145841156\nBangui is the capital of Central African Republic and it's average temperature is 78.87307532826536\nBeijing is the capital of China and it's average temperature is 55.138848435814346\nBrazzaville is the capital of Congo and it's average temperature is 78.16767457627127\nZagreb is the capital of Croatia and it's average temperature is 54.77584110255372\nHavana is the capital of Cuba and it's average temperature is 75.78236970684006\nNicosia is the capital of Cyprus and it's average temperature is 68.30221070811731\nPrague is the capital of Czech Republic and it's average temperature is 48.482454484153656\nCopenhagen is the capital of Denmark and it's average temperature is 47.69288121882163\nSanto domingo is the capital of Dominican Republic and it's average temperature is 79.86451932606546\nCairo is the capital of Egypt and it's average temperature is 72.95166689161857\nQuito is the capital of Equador and it's average temperature is 57.563861588861556\nAddis ababa is the capital of Ethiopia and it's average temperature is 63.13585877160754\nHelsinki is the capital of Finland and it's average temperature is 42.891600377511004\nParis is the capital of France and it's average temperature is 53.75609789075182\nLibreville is the capital of Gabon and it's average temperature is 79.88768056691202\nBanjul is the capital of Gambia and it's average temperature is 79.07865168539325\nTbilisi is the capital of Georgia and it's average temperature is 56.06021929824568\nAthens is the capital of Greece and it's average temperature is 65.30633833922252\nGuatemala city is the capital of Guatemala and it's average temperature is 66.8525301858634\nConakry is the capital of Guinea and it's average temperature is 81.5939416716778\nBissau is the capital of Guinea-Bissau and it's average temperature is 82.21137532133694\nGeorgetown is the capital of Guyana and it's average temperature is 83.35953046394644\nTegucigalpa is the capital of Honduras and it's average temperature is 71.61815821833592\nBudapest is the capital of Hungary and it's average temperature is 51.885043830074004\nJakarta is the capital of Indonesia and it's average temperature is 83.58314404182426\nDublin is the capital of Ireland and it's average temperature is 49.517354368932004\nRome is the capital of Italy and it's average temperature is 60.87803398058258\nTokyo is the capital of Japan and it's average temperature is 61.54507080242753\nAmman is the capital of Jordan and it's average temperature is 64.87037636584382\nNairobi is the capital of Kenya and it's average temperature is 67.48909862142096\nBishkek is the capital of Kyrgyzstan and it's average temperature is 53.60946402052152\nVientiane is the capital of Laos and it's average temperature is 80.9129524581308\nRiga is the capital of Latvia and it's average temperature is 45.58967098166132\nBeirut is the capital of Lebanon and it's average temperature is 70.48178498985806\nSkopje is the capital of Macedonia and it's average temperature is 54.66007553277581\nAntananarivo is the capital of Madagascar and it's average temperature is 65.3536463266132\nLilongwe is the capital of Malawi and it's average temperature is 70.3044391121776\nKuala lumpur is the capital of Malaysia and it's average temperature is 82.38935366347276\nNouakchott is the capital of Mauritania and it's average temperature is 78.0723038836456\nMexico city is the capital of Mexico and it's average temperature is 62.767687947091304\nRabat is the capital of Morocco and it's average temperature is 63.253171390013094\nMaputo is the capital of Mozambique and it's average temperature is 74.7996119574591\nWindhoek is the capital of Namibia and it's average temperature is 69.40065799093443\nManagua is the capital of Nicaragua and it's average temperature is 81.83260840016331\nNiamey is the capital of Nigeria and it's average temperature is 86.04208384208364\nPyongyang is the capital of North Korea and it's average temperature is 51.855723183391234\nOslo is the capital of Norway and it's average temperature is 42.03408476104584\nMuscat is the capital of Oman and it's average temperature is 82.96081081081105\nIslamabad is the capital of Pakistan and it's average temperature is 71.71495588853101\nPanama city is the capital of Panama and it's average temperature is 81.06408899742213\nLima is the capital of Peru and it's average temperature is 66.80534140017264\nManila is the capital of Philippines and it's average temperature is 82.53696151249142\nWarsaw is the capital of Poland and it's average temperature is 48.65906945380975\nLisbon is the capital of Portugal and it's average temperature is 62.334355165428725\nDoha is the capital of Qatar and it's average temperature is 83.22941176470565\nBucharest is the capital of Romania and it's average temperature is 53.19618341200273\nYerevan is the capital of Russia and it's average temperature is 55.17287272727277\nMoscow is the capital of Russia and it's average temperature is 42.69286485028326\nRiyadh is the capital of Saudi Arabia and it's average temperature is 79.44310577441978\nDakar is the capital of Senegal and it's average temperature is 76.39449095328081\nPristina is the capital of Serbia-Montenegro and it's average temperature is 51.727949526813774\nFreetown is the capital of Sierra Leone and it's average temperature is 81.69861888764476\nSingapore is the capital of Singapore and it's average temperature is 82.24798381658813\nBratislava is the capital of Slovakia and it's average temperature is 52.333558133261334\nSeoul is the capital of South Korea and it's average temperature is 53.5249055585537\nMadrid is the capital of Spain and it's average temperature is 58.82444384522046\nParamaribo is the capital of Suriname and it's average temperature is 79.76411992263057\nStockholm is the capital of Sweden and it's average temperature is 45.7904222312155\nBern is the capital of Switzerland and it's average temperature is 49.93444504455841\nDamascus is the capital of Syria and it's average temperature is 63.93726498038671\nTaipei is the capital of Taiwan and it's average temperature is 74.07197434847843\nBangkok is the capital of Thailand and it's average temperature is 83.90257719990724\nAmsterdam is the capital of The Netherlands and it's average temperature is 51.52740391099119\nTunis is the capital of Tunisia and it's average temperature is 67.16758871947094\nAnkara is the capital of Turkey and it's average temperature is 51.5946459878624\nKampala is the capital of Uganda and it's average temperature is 72.63900015525546\nAbu dhabi is the capital of United Arab Emirates and it's average temperature is 83.04791526109815\nBelfast is the capital of United Kingdom and it's average temperature is 50.30318040330214\nLondon is the capital of United Kingdom and it's average temperature is 52.86886461704412\nTashkent is the capital of Uzbekistan and it's average temperature is 60.7996089008766\nCaracas is the capital of Venezuela and it's average temperature is 81.46224015317287\nHanoi is the capital of Vietnam and it's average temperature is 75.38798920377882\nBelgrade is the capital of Yugoslavia and it's average temperature is 54.91437626432908\nLusaka is the capital of Zambia and it's average temperature is 69.26938733971114\n"
     ]
    }
   ],
   "source": [
    "stringUDF = udf(lambda x, y, z: createString(x, y, z))\n",
    "test = f.select(\"City\", \"Country\", \"AvgTemp\", stringUDF(\"City\", \"Country\", \"avgTemp\").alias(\"TotalString\"))\n",
    "test = test.collect()\n",
    "for x in test:\n",
    "    print(x[-1])"
   ]
  }
 ],
 "metadata": {
  "application/vnd.databricks.v1+notebook": {
   "dashboards": [],
   "language": "python",
   "notebookMetadata": {
    "pythonIndentUnit": 4
   },
   "notebookName": "CS 4371 HW4",
   "widgets": {}
  }
 },
 "nbformat": 4,
 "nbformat_minor": 0
}
